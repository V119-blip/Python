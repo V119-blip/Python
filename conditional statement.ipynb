{
 "cells": [
  {
   "cell_type": "code",
   "execution_count": 1,
   "metadata": {},
   "outputs": [
    {
     "ename": "SyntaxError",
     "evalue": "invalid syntax (<ipython-input-1-79dfbc5b09b1>, line 1)",
     "output_type": "error",
     "traceback": [
      "\u001b[1;36m  File \u001b[1;32m\"<ipython-input-1-79dfbc5b09b1>\"\u001b[1;36m, line \u001b[1;32m1\u001b[0m\n\u001b[1;33m    print(hello world\u001b[0m\n\u001b[1;37m                    ^\u001b[0m\n\u001b[1;31mSyntaxError\u001b[0m\u001b[1;31m:\u001b[0m invalid syntax\n"
     ]
    }
   ],
   "source": [
    "print(hello world\n",
    "    )"
   ]
  },
  {
   "cell_type": "code",
   "execution_count": 7,
   "metadata": {},
   "outputs": [
    {
     "name": "stdout",
     "output_type": "stream",
     "text": [
      "please enter a num:6\n",
      "even\n"
     ]
    }
   ],
   "source": [
    "num=int(input(\"please enter a num:\"))\n",
    "\n",
    "if(num%2==0):\n",
    "   print(\"even\")\n",
    "else:\n",
    "   print(\"odd\")"
   ]
  },
  {
   "cell_type": "code",
   "execution_count": 8,
   "metadata": {},
   "outputs": [
    {
     "name": "stdout",
     "output_type": "stream",
     "text": [
      "please enter the character:y\n",
      "consonant\n"
     ]
    }
   ],
   "source": [
    "le=(input(\"please enter the character:\"))\n",
    "if(le=='a'or le==\"e\"or le==\"i\"or le==\"o\"or le==\"u\"or le==\"A\"or le==\"E\"or le==\"I\"or le==\"O\"or le==\"U\" ):\n",
    "   print(\"vowel\")\n",
    "else:\n",
    "   print(\"consonant\")"
   ]
  },
  {
   "cell_type": "code",
   "execution_count": 25,
   "metadata": {},
   "outputs": [
    {
     "name": "stdout",
     "output_type": "stream",
     "text": [
      "enter the first num:6\n",
      "enter the second num6\n",
      "sum1\n"
     ]
    }
   ],
   "source": [
    "a=int(input(\"enter the first num:\"))\n",
    "b=int(input(\"enter the second num\"))\n",
    "sum=a+b\n",
    "sum1=sum*2\n",
    "if(a==b):\n",
    " print(\"sum1\")\n",
    "else:\n",
    " print(\"sum\")\n",
    "    \n",
    "    \n",
    "    \n"
   ]
  },
  {
   "cell_type": "code",
   "execution_count": 23,
   "metadata": {},
   "outputs": [
    {
     "name": "stdout",
     "output_type": "stream",
     "text": [
      "enter the cost price50\n",
      "enter the selling price100\n",
      "profit\n"
     ]
    }
   ],
   "source": [
    "a=int(input(\"enter the cost price\"))\n",
    "b=int(input(\"enter the selling price\"))\n",
    "profit= b-a\n",
    "loss= a-b\n",
    "if(a<b):\n",
    " print(\"profit\")\n",
    "else:\n",
    " print(\"loss\")\n"
   ]
  },
  {
   "cell_type": "code",
   "execution_count": 26,
   "metadata": {},
   "outputs": [
    {
     "name": "stdout",
     "output_type": "stream",
     "text": [
      "enter the first angle30\n",
      "enter the second angle50\n",
      "enter the third angle45\n",
      "not valid\n"
     ]
    }
   ],
   "source": [
    "a=int(input(\"enter the first angle\"))\n",
    "b=int(input(\"enter the second angle\"))\n",
    "c=int(input(\"enter the third angle\"))\n",
    "t=a+b+c\n",
    "if(t==180):\n",
    " print(\"valid\")\n",
    "else:\n",
    " print(\"not valid\")"
   ]
  },
  {
   "cell_type": "code",
   "execution_count": null,
   "metadata": {},
   "outputs": [],
   "source": []
  }
 ],
 "metadata": {
  "kernelspec": {
   "display_name": "Python 3",
   "language": "python",
   "name": "python3"
  },
  "language_info": {
   "codemirror_mode": {
    "name": "ipython",
    "version": 3
   },
   "file_extension": ".py",
   "mimetype": "text/x-python",
   "name": "python",
   "nbconvert_exporter": "python",
   "pygments_lexer": "ipython3",
   "version": "3.7.3"
  }
 },
 "nbformat": 4,
 "nbformat_minor": 2
}
